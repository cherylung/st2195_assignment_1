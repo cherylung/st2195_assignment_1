{
 "cells": [
  {
   "cell_type": "markdown",
   "id": "31772f1a",
   "metadata": {},
   "source": [
    "# Assignment 1 part 4 Jupyter notebook"
   ]
  },
  {
   "cell_type": "markdown",
   "id": "809912d0",
   "metadata": {},
   "source": [
    "Python codes:"
   ]
  },
  {
   "cell_type": "code",
   "execution_count": 1,
   "id": "bf5c566c",
   "metadata": {},
   "outputs": [
    {
     "name": "stdout",
     "output_type": "stream",
     "text": [
      "1\n",
      "2\n",
      "3\n",
      "4\n",
      "5\n",
      "6\n",
      "7\n",
      "8\n",
      "9\n",
      "10\n"
     ]
    }
   ],
   "source": [
    "number = [1,2,3,4,5,6,7,8,9,10]\n",
    "\n",
    "for x in number :\n",
    "        print (x)"
   ]
  },
  {
   "cell_type": "markdown",
   "id": "b1c2101b",
   "metadata": {},
   "source": [
    "R codes:"
   ]
  },
  {
   "cell_type": "code",
   "execution_count": 2,
   "id": "e8d86012",
   "metadata": {},
   "outputs": [
    {
     "ename": "SyntaxError",
     "evalue": "invalid syntax (<ipython-input-2-3dfc50d6c66c>, line 1)",
     "output_type": "error",
     "traceback": [
      "\u001b[1;36m  File \u001b[1;32m\"<ipython-input-2-3dfc50d6c66c>\"\u001b[1;36m, line \u001b[1;32m1\u001b[0m\n\u001b[1;33m    for (number in c(1,2,3,4,5,6,7,8,9,10) ) {\u001b[0m\n\u001b[1;37m                                             ^\u001b[0m\n\u001b[1;31mSyntaxError\u001b[0m\u001b[1;31m:\u001b[0m invalid syntax\n"
     ]
    }
   ],
   "source": [
    "for (number in c(1,2,3,4,5,6,7,8,9,10) ) {\n",
    "  print(number)\n",
    "}"
   ]
  },
  {
   "cell_type": "code",
   "execution_count": null,
   "id": "547a5b52",
   "metadata": {},
   "outputs": [],
   "source": []
  }
 ],
 "metadata": {
  "kernelspec": {
   "display_name": "Python 3",
   "language": "python",
   "name": "python3"
  },
  "language_info": {
   "codemirror_mode": {
    "name": "ipython",
    "version": 3
   },
   "file_extension": ".py",
   "mimetype": "text/x-python",
   "name": "python",
   "nbconvert_exporter": "python",
   "pygments_lexer": "ipython3",
   "version": "3.8.8"
  }
 },
 "nbformat": 4,
 "nbformat_minor": 5
}
